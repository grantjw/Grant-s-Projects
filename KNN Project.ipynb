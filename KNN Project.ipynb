{
 "cells": [
  {
   "cell_type": "markdown",
   "metadata": {},
   "source": [
    "# Using KNN to predict car prices with multivariate and hyperparameter tuning"
   ]
  },
  {
   "cell_type": "markdown",
   "metadata": {},
   "source": [
    "Dataset contains: the technical aspects of the vehicle such as the motor's displacement, the weight of the car, the miles per gallon, how fast the car accelerates, and more. \n",
    "\n",
    "Unit of Analysis: each car\n",
    "\n",
    "Target Variable: price \n",
    "\n",
    "Further information about the dataset is available from: \n",
    "https://archive.ics.uci.edu/ml/datasets/automobile\n",
    "\n"
   ]
  },
  {
   "cell_type": "markdown",
   "metadata": {},
   "source": [
    "# Data Cleaning"
   ]
  },
  {
   "cell_type": "code",
   "execution_count": 12,
   "metadata": {},
   "outputs": [],
   "source": [
    "import pandas as pd\n",
    "import numpy as np\n",
    "pd.options.display.max_columns = 99\n",
    "\n",
    "column_names =  ['symboling', 'normalized-losses', 'make', 'fuel-type', 'aspiration', 'num-of-doors', 'body-style', \n",
    "        'drive-wheels', 'engine-location', 'wheel-base', 'length', 'width', 'height', 'curb-weight', 'engine-type', \n",
    "        'num-of-cylinders', 'engine-size', 'fuel-system', 'bore', 'stroke', 'compression-rate', 'horsepower', 'peak-rpm', \n",
    "        'city-mpg', 'highway-mpg', 'price']\n",
    "cars = pd.read_csv('imports-85.data', names=column_names)"
   ]
  },
  {
   "cell_type": "markdown",
   "metadata": {},
   "source": [
    "We select all numeric columns, including dytype = object that are numeric, to use KNN\n"
   ]
  },
  {
   "cell_type": "code",
   "execution_count": 13,
   "metadata": {},
   "outputs": [],
   "source": [
    "cols_numeric = ['normalized-losses', 'wheel-base', 'length', 'width', 'height', 'curb-weight', \n",
    "                'bore', 'stroke', 'compression-rate', 'horsepower', 'peak-rpm', 'city-mpg', 'highway-mpg', 'price']\n",
    "numeric_cars = cars[cols_numeric]\n",
    "\n",
    "numeric_cars = numeric_cars.replace('?',np.nan)\n",
    "numeric_cars.head() \n",
    "numeric_cars.dtypes\n",
    "numeric_cars = numeric_cars.astype(float)"
   ]
  },
  {
   "cell_type": "markdown",
   "metadata": {},
   "source": [
    "drop all Null values for price since price is target the variable "
   ]
  },
  {
   "cell_type": "code",
   "execution_count": 14,
   "metadata": {},
   "outputs": [
    {
     "data": {
      "text/plain": [
       "normalized-losses    37\n",
       "wheel-base            0\n",
       "length                0\n",
       "width                 0\n",
       "height                0\n",
       "curb-weight           0\n",
       "bore                  4\n",
       "stroke                4\n",
       "compression-rate      0\n",
       "horsepower            2\n",
       "peak-rpm              2\n",
       "city-mpg              0\n",
       "highway-mpg           0\n",
       "price                 0\n",
       "dtype: int64"
      ]
     },
     "execution_count": 14,
     "metadata": {},
     "output_type": "execute_result"
    }
   ],
   "source": [
    "numeric_cars = numeric_cars.dropna(subset=['price'])\n",
    "numeric_cars.isnull().sum()\n"
   ]
  },
  {
   "cell_type": "markdown",
   "metadata": {},
   "source": [
    "replace all other null observations with column means \n"
   ]
  },
  {
   "cell_type": "code",
   "execution_count": 15,
   "metadata": {},
   "outputs": [
    {
     "data": {
      "text/plain": [
       "normalized-losses    0\n",
       "wheel-base           0\n",
       "length               0\n",
       "width                0\n",
       "height               0\n",
       "curb-weight          0\n",
       "bore                 0\n",
       "stroke               0\n",
       "compression-rate     0\n",
       "horsepower           0\n",
       "peak-rpm             0\n",
       "city-mpg             0\n",
       "highway-mpg          0\n",
       "price                0\n",
       "dtype: int64"
      ]
     },
     "execution_count": 15,
     "metadata": {},
     "output_type": "execute_result"
    }
   ],
   "source": [
    "numeric_cars = numeric_cars.fillna(numeric_cars.mean())\n",
    "numeric_cars.isnull().sum()\n"
   ]
  },
  {
   "cell_type": "markdown",
   "metadata": {},
   "source": [
    " Normalize scaling. \n",
    " \n",
    "It is interesting to consider the affects of normalizing vs. standardizing data on model performance: KNNs can perform better with normalization: https://towardsdatascience.com/normalization-vs-standardization-quantitative-analysis-a91e8a79cebf\n",
    "\n",
    "There are two ways to normalize data that yield identical results.  "
   ]
  },
  {
   "cell_type": "markdown",
   "metadata": {},
   "source": [
    "1) using sklearn \n"
   ]
  },
  {
   "cell_type": "code",
   "execution_count": null,
   "metadata": {},
   "outputs": [],
   "source": [
    "# from sklearn import preprocessing\n",
    "# min_max_scaler = preprocessing.MinMaxScaler()\n",
    "# numeric_cars = min_max_scaler.fit_transform(numeric_cars)"
   ]
  },
  {
   "cell_type": "markdown",
   "metadata": {},
   "source": [
    "2) Using Formulas"
   ]
  },
  {
   "cell_type": "code",
   "execution_count": 16,
   "metadata": {},
   "outputs": [],
   "source": [
    "price_col = numeric_cars['price']\n",
    "numeric_cars = (numeric_cars - numeric_cars.min())/(numeric_cars.max() - numeric_cars.min())\n",
    "numeric_cars['price'] = price_col"
   ]
  },
  {
   "cell_type": "markdown",
   "metadata": {},
   "source": [
    "# Univariate KNN Model "
   ]
  },
  {
   "cell_type": "code",
   "execution_count": 17,
   "metadata": {},
   "outputs": [
    {
     "data": {
      "text/plain": [
       "{'normalized-losses': {1: 6499.876425672999,\n",
       "  3: 6373.107123484384,\n",
       "  5: 6231.311123986794,\n",
       "  7: 6434.331952881507,\n",
       "  9: 6534.518371010953,\n",
       "  11: 6666.449407029468,\n",
       "  13: 6888.501966847079,\n",
       "  15: 7152.106679518069},\n",
       " 'wheel-base': {1: 2740.62572288541,\n",
       "  3: 3417.1446705321687,\n",
       "  5: 4161.947971897813,\n",
       "  7: 4572.080496976003,\n",
       "  9: 4488.496411259577,\n",
       "  11: 4525.007727297465,\n",
       "  13: 4563.079036660858,\n",
       "  15: 4509.627786021055},\n",
       " 'length': {1: 5297.150036557764,\n",
       "  3: 5507.625440160827,\n",
       "  5: 5416.294063685402,\n",
       "  7: 5030.583828449936,\n",
       "  9: 4407.827047652169,\n",
       "  11: 4469.555360625737,\n",
       "  13: 4390.3912867633535,\n",
       "  15: 4196.265468329806},\n",
       " 'width': {1: 2791.733012966368,\n",
       "  3: 4083.105499312811,\n",
       "  5: 3917.2276702270137,\n",
       "  7: 3722.033525295731,\n",
       "  9: 3665.167444110463,\n",
       "  11: 3632.658816929262,\n",
       "  13: 3571.921138696896,\n",
       "  15: 3671.6792186435264},\n",
       " 'height': {1: 8302.179086735921,\n",
       "  3: 7159.369749588925,\n",
       "  5: 6666.667677627373,\n",
       "  7: 6570.390279532118,\n",
       "  9: 6484.278955313533,\n",
       "  11: 6268.373445861512,\n",
       "  13: 6479.95004452454,\n",
       "  15: 6566.7860427356345},\n",
       " 'curb-weight': {1: 3906.6625644092765,\n",
       "  3: 4156.281651639599,\n",
       "  5: 4011.4500359082417,\n",
       "  7: 3811.5247071791855,\n",
       "  9: 3914.8184777366964,\n",
       "  11: 3973.045712140343,\n",
       "  13: 3811.1571818922343,\n",
       "  15: 3876.560899495138},\n",
       " 'bore': {1: 8034.701162128302,\n",
       "  3: 6084.362542715404,\n",
       "  5: 6507.421953431328,\n",
       "  7: 7053.551668716783,\n",
       "  9: 7347.122881701951,\n",
       "  11: 6790.259110809396,\n",
       "  13: 6556.675513798702,\n",
       "  15: 6892.481173317166},\n",
       " 'stroke': {1: 10305.511168834877,\n",
       "  3: 8888.38657792322,\n",
       "  5: 6939.6914399959405,\n",
       "  7: 7280.853272752566,\n",
       "  9: 6975.780622041914,\n",
       "  11: 7341.869155202117,\n",
       "  13: 7611.919571116157,\n",
       "  15: 7567.165032155569},\n",
       " 'compression-rate': {1: 6357.71976018286,\n",
       "  3: 5732.933869082801,\n",
       "  5: 5958.572328216569,\n",
       "  7: 5674.840084089771,\n",
       "  9: 6218.363072593153,\n",
       "  11: 6856.028880367008,\n",
       "  13: 7072.975551335192,\n",
       "  15: 7133.786442875132},\n",
       " 'horsepower': {1: 3554.321250115078,\n",
       "  3: 4351.006073525047,\n",
       "  5: 4756.983755346181,\n",
       "  7: 4701.79668565425,\n",
       "  9: 4717.573083571473,\n",
       "  11: 4751.022304440099,\n",
       "  13: 4625.983802635271,\n",
       "  15: 4571.524086444386},\n",
       " 'peak-rpm': {1: 7434.7067165278495,\n",
       "  3: 7452.9880963456635,\n",
       "  5: 6326.47174389284,\n",
       "  7: 6746.235594602308,\n",
       "  9: 6817.364517123306,\n",
       "  11: 6582.076389014949,\n",
       "  13: 6385.315495778123,\n",
       "  15: 6302.164103472901},\n",
       " 'city-mpg': {1: 4403.50104473479,\n",
       "  3: 4066.0079553304445,\n",
       "  5: 3684.803553760217,\n",
       "  7: 3751.3880442982118,\n",
       "  9: 4114.050552842478,\n",
       "  11: 4527.495925906395,\n",
       "  13: 4794.514510918233,\n",
       "  15: 4706.383637882498},\n",
       " 'highway-mpg': {1: 5033.224263848779,\n",
       "  3: 4465.395966701448,\n",
       "  5: 4323.5025303792845,\n",
       "  7: 3902.7625529383477,\n",
       "  9: 4249.080449511941,\n",
       "  11: 4271.331790244839,\n",
       "  13: 4426.064232289374,\n",
       "  15: 4588.997589774291}}"
      ]
     },
     "execution_count": 17,
     "metadata": {},
     "output_type": "execute_result"
    }
   ],
   "source": [
    "from sklearn.neighbors import KNeighborsRegressor\n",
    "from sklearn.metrics import mean_squared_error\n",
    "def knn_train_test(train, target, df):\n",
    "    np.random.seed(1)\n",
    "    random_index = np.random.permutation(df.index)\n",
    "    df_shuffled = df.reindex(random_index)\n",
    "    # We use the 75/25 split, given that the data is not large, a 50/50 split may be worth considering \n",
    "    last_train_row = int(len(df_shuffled) * 3/4)\n",
    "    train_df = df_shuffled.iloc[0:last_train_row]\n",
    "    test_df = df_shuffled.iloc[last_train_row:]\n",
    "    \n",
    "    k_values = [1,3,5,7,9,11,13,15]\n",
    "    k_rmses = {}\n",
    "    for k in k_values :\n",
    "        knn = KNeighborsRegressor(n_neighbors=k)\n",
    "        knn.fit(train_df[[train]],train_df[target])\n",
    "        pred_var = knn.predict(test_df[[train]])\n",
    "    \n",
    "        mse = mean_squared_error(test_df[target], pred_var)\n",
    "        rmse = np.sqrt(mse)\n",
    "        k_rmses[k] = rmse\n",
    "    return k_rmses\n",
    "\n",
    "rmse_results = {}\n",
    "\n",
    "train_col = numeric_cars.columns.drop('price')\n",
    "\n",
    "for i in train_col:\n",
    "    rmse = knn_train_test(i, 'price', numeric_cars)\n",
    "    rmse_results[i] = rmse\n",
    "\n",
    "rmse_results\n"
   ]
  },
  {
   "cell_type": "markdown",
   "metadata": {},
   "source": [
    "### Plot k-value vs. RMSE \n"
   ]
  },
  {
   "cell_type": "code",
   "execution_count": 18,
   "metadata": {},
   "outputs": [
    {
     "data": {
      "image/png": "[encoded data removed]",
      "text/plain": [
       "<Figure size 432x288 with 1 Axes>"
      ]
     },
     "metadata": {
      "needs_background": "light"
     },
     "output_type": "display_data"
    }
   ],
   "source": [
    "import matplotlib.pyplot as plt\n",
    "\n",
    "for k,v in rmse_results.items():\n",
    "    x = list(v.keys())\n",
    "    y = list(v.values())\n",
    "    plt.plot(x,y)\n",
    "    plt.xlabel('k-value')\n",
    "    plt.ylabel('RMSE')"
   ]
  },
  {
   "cell_type": "markdown",
   "metadata": {},
   "source": [
    "# Multivariate model with hyperparameter tuning "
   ]
  },
  {
   "cell_type": "markdown",
   "metadata": {},
   "source": [
    "### We first compute average RMSE across different k for each feature "
   ]
  },
  {
   "cell_type": "code",
   "execution_count": 19,
   "metadata": {},
   "outputs": [
    {
     "name": "stdout",
     "output_type": "stream",
     "text": [
      "width                3631.940791\n",
      "curb-weight          3932.687654\n",
      "wheel-base           4122.251228\n",
      "city-mpg             4256.018153\n",
      "highway-mpg          4407.544922\n",
      "horsepower           4503.776380\n",
      "length               4839.461567\n",
      "compression-rate     6375.652499\n",
      "normalized-losses    6597.525381\n",
      "peak-rpm             6755.915332\n",
      "height               6812.249410\n",
      "bore                 6908.322001\n",
      "stroke               7863.897105\n",
      "dtype: float64\n"
     ]
    }
   ],
   "source": [
    "feature_avg_rmse = {}\n",
    "for k,v in rmse_results.items():\n",
    "    avg_rmse = np.mean(list(v.values()))\n",
    "    feature_avg_rmse[k] = avg_rmse\n",
    "series_avg_rmse = pd.Series(feature_avg_rmse)\n",
    "sorted_series_avg_rmse = series_avg_rmse.sort_values()\n",
    "print(sorted_series_avg_rmse)\n",
    "\n",
    "sorted_features = sorted_series_avg_rmse.index\n"
   ]
  },
  {
   "cell_type": "markdown",
   "metadata": {},
   "source": [
    "### We define the KNN function with hyperparameter tuning"
   ]
  },
  {
   "cell_type": "code",
   "execution_count": 21,
   "metadata": {},
   "outputs": [],
   "source": [
    "def knn_train_test(train_cols, target_col, df):\n",
    "    np.random.seed(1)\n",
    "    \n",
    "    # Randomize order of rows in data frame.\n",
    "    shuffled_index = np.random.permutation(df.index)\n",
    "    rand_df = df.reindex(shuffled_index)\n",
    "\n",
    "    # 75/25 split \n",
    "    last_train_row = int(len(rand_df) * 3/4)\n",
    "    \n",
    "    train_df = rand_df.iloc[0:last_train_row]\n",
    "    test_df = rand_df.iloc[last_train_row:]\n",
    "    \n",
    "    k_values = [i for i in range(1, 25)]\n",
    "    k_rmses = {}\n",
    "    \n",
    "    for k in k_values:\n",
    "        # Fit model using k where k ranges from 1 - 25 \n",
    "        knn = KNeighborsRegressor(n_neighbors=k)\n",
    "        knn.fit(train_df[train_cols], train_df[target_col])\n",
    "\n",
    "        # Predict\n",
    "        predicted_labels = knn.predict(test_df[train_cols])\n",
    "\n",
    "        # Calculate and return RMSE.\n",
    "        mse = mean_squared_error(test_df[target_col], predicted_labels)\n",
    "        rmse = np.sqrt(mse)\n",
    "        \n",
    "        k_rmses[k] = rmse\n",
    "    return k_rmses"
   ]
  },
  {
   "cell_type": "markdown",
   "metadata": {},
   "source": [
    "### We find the best 2,3,4,5,6,7 features based on \"sorted features\" calculated above. "
   ]
  },
  {
   "cell_type": "code",
   "execution_count": 22,
   "metadata": {},
   "outputs": [
    {
     "data": {
      "text/plain": [
       "{'2 best features': {1: 3986.111521122249,\n",
       "  2: 3826.8074865631384,\n",
       "  3: 4038.9323383229885,\n",
       "  4: 3381.1053836276797,\n",
       "  5: 3291.0824443769666,\n",
       "  6: 3181.1413771363536,\n",
       "  7: 3070.901670980223,\n",
       "  8: 2990.722543945726,\n",
       "  9: 2888.7276369442325,\n",
       "  10: 2762.9700871614627,\n",
       "  11: 2864.052793788353,\n",
       "  12: 2985.447915630826,\n",
       "  13: 3077.4697141880997,\n",
       "  14: 3137.1097962375275,\n",
       "  15: 3216.3857732345778,\n",
       "  16: 3300.2905392261696,\n",
       "  17: 3397.0376277393643,\n",
       "  18: 3499.673131103864,\n",
       "  19: 3583.7017582154353,\n",
       "  20: 3610.384366602515,\n",
       "  21: 3532.6347467595224,\n",
       "  22: 3604.895036906162,\n",
       "  23: 3668.520748027148,\n",
       "  24: 3730.4892552821902},\n",
       " '3 best features': {1: 2635.050153929805,\n",
       "  2: 2609.0845306803103,\n",
       "  3: 3211.872811032275,\n",
       "  4: 3378.7666751490906,\n",
       "  5: 3120.28913165079,\n",
       "  6: 3009.9071024286686,\n",
       "  7: 2864.046061979111,\n",
       "  8: 2635.12146257986,\n",
       "  9: 2822.4020037774803,\n",
       "  10: 2775.2161095146816,\n",
       "  11: 2972.303824796519,\n",
       "  12: 3079.4855745730106,\n",
       "  13: 3193.4622944076636,\n",
       "  14: 3304.5228976408093,\n",
       "  15: 3395.1079764771835,\n",
       "  16: 3524.7921276360885,\n",
       "  17: 3491.212552243805,\n",
       "  18: 3580.9980610733087,\n",
       "  19: 3672.3349828666774,\n",
       "  20: 3674.891380360919,\n",
       "  21: 3725.670567744903,\n",
       "  22: 3754.7945797565517,\n",
       "  23: 3821.7744283270913,\n",
       "  24: 3880.244816006058},\n",
       " '4 best features': {1: 2184.58198989835,\n",
       "  2: 2591.8432630080083,\n",
       "  3: 2951.7740380451824,\n",
       "  4: 3146.831124711172,\n",
       "  5: 2792.8019105143403,\n",
       "  6: 2606.0375342988236,\n",
       "  7: 2610.4058619888447,\n",
       "  8: 2633.418687749395,\n",
       "  9: 2579.579888023011,\n",
       "  10: 2776.3502237826624,\n",
       "  11: 3007.3803679218654,\n",
       "  12: 3060.8315494265835,\n",
       "  13: 3121.6614039995684,\n",
       "  14: 3233.2060866328106,\n",
       "  15: 3294.699265860524,\n",
       "  16: 3425.3222280371547,\n",
       "  17: 3527.8260761162624,\n",
       "  18: 3605.972888506769,\n",
       "  19: 3669.7228691250593,\n",
       "  20: 3568.8059638962127,\n",
       "  21: 3651.7952827743093,\n",
       "  22: 3605.247763580357,\n",
       "  23: 3572.636051752075,\n",
       "  24: 3627.7197131387634},\n",
       " '5 best features': {1: 2430.2187870521407,\n",
       "  2: 2754.7202012645316,\n",
       "  3: 2907.158334473605,\n",
       "  4: 3043.6155601021756,\n",
       "  5: 2709.5476680601496,\n",
       "  6: 2524.8263789830607,\n",
       "  7: 2502.879447878432,\n",
       "  8: 2656.810578505979,\n",
       "  9: 2760.9500627668417,\n",
       "  10: 2924.7055892389394,\n",
       "  11: 3046.3478864283798,\n",
       "  12: 3180.3263217688414,\n",
       "  13: 3285.597911797645,\n",
       "  14: 3365.320559974719,\n",
       "  15: 3385.211688138221,\n",
       "  16: 3468.605881953572,\n",
       "  17: 3468.319010676625,\n",
       "  18: 3545.8349610817654,\n",
       "  19: 3678.6859653031315,\n",
       "  20: 3776.71439561935,\n",
       "  21: 3811.654933210151,\n",
       "  22: 3846.2554150910205,\n",
       "  23: 3893.45181982251,\n",
       "  24: 3853.630023057378},\n",
       " '6 best features': {1: 2474.9465353702444,\n",
       "  2: 2632.466311722325,\n",
       "  3: 2625.220807395389,\n",
       "  4: 2527.0231908527953,\n",
       "  5: 2516.5396659294047,\n",
       "  6: 2604.6745109003937,\n",
       "  7: 2662.9949378877322,\n",
       "  8: 2552.840856641525,\n",
       "  9: 2706.3327097120236,\n",
       "  10: 2781.994895824246,\n",
       "  11: 2831.1073690089165,\n",
       "  12: 2939.428214224583,\n",
       "  13: 3048.3269252428386,\n",
       "  14: 3203.3122802071316,\n",
       "  15: 3217.108930468642,\n",
       "  16: 3196.9840664315416,\n",
       "  17: 3260.9537282711067,\n",
       "  18: 3360.969539250043,\n",
       "  19: 3471.818792168327,\n",
       "  20: 3581.9270744005285,\n",
       "  21: 3587.5499465764938,\n",
       "  22: 3639.636321183483,\n",
       "  23: 3709.784893569815,\n",
       "  24: 3751.0052341261794}}"
      ]
     },
     "execution_count": 22,
     "metadata": {},
     "output_type": "execute_result"
    }
   ],
   "source": [
    "k_rmse_results = {}\n",
    "\n",
    "for nr_best_feats in range(2,7):\n",
    "    k_rmse_results['{} best features'.format(nr_best_feats)] = knn_train_test(\n",
    "        sorted_features[:nr_best_feats],\n",
    "        'price',\n",
    "        numeric_cars\n",
    "    )\n",
    "\n",
    "k_rmse_results"
   ]
  },
  {
   "cell_type": "markdown",
   "metadata": {},
   "source": [
    "### K-value vs. RMSE graph for k value from 1-25 \n",
    "### Different lines are different # of features "
   ]
  },
  {
   "cell_type": "code",
   "execution_count": 23,
   "metadata": {},
   "outputs": [
    {
     "data": {
      "image/png": "[encoded data removed]",
      "text/plain": [
       "<Figure size 432x288 with 1 Axes>"
      ]
     },
     "metadata": {
      "needs_background": "light"
     },
     "output_type": "display_data"
    }
   ],
   "source": [
    "\n",
    "for k,v in k_rmse_results.items():\n",
    "    x = list(v.keys())\n",
    "    y = list(v.values())\n",
    "    \n",
    "    plt.plot(x,y)\n",
    "    plt.xlabel('k value')\n",
    "    plt.ylabel('RMSE')\n",
    "    \n"
   ]
  },
  {
   "cell_type": "code",
   "execution_count": null,
   "metadata": {},
   "outputs": [],
   "source": []
  }
 ],
 "metadata": {
  "kernelspec": {
   "display_name": "Python 3",
   "language": "python",
   "name": "python3"
  },
  "language_info": {
   "codemirror_mode": {
    "name": "ipython",
    "version": 3
   },
   "file_extension": ".py",
   "mimetype": "text/x-python",
   "name": "python",
   "nbconvert_exporter": "python",
   "pygments_lexer": "ipython3",
   "version": "3.7.6"
  }
 },
 "nbformat": 4,
 "nbformat_minor": 4
}
