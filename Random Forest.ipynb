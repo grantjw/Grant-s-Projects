{
 "cells": [
  {
   "cell_type": "code",
   "execution_count": 2,
   "metadata": {},
   "outputs": [
    {
     "data": {
      "text/html": [
       "<div>\n",
       "<style scoped>\n",
       "    .dataframe tbody tr th:only-of-type {\n",
       "        vertical-align: middle;\n",
       "    }\n",
       "\n",
       "    .dataframe tbody tr th {\n",
       "        vertical-align: top;\n",
       "    }\n",
       "\n",
       "    .dataframe thead th {\n",
       "        text-align: right;\n",
       "    }\n",
       "</style>\n",
       "<table border=\"1\" class=\"dataframe\">\n",
       "  <thead>\n",
       "    <tr style=\"text-align: right;\">\n",
       "      <th></th>\n",
       "      <th>instant</th>\n",
       "      <th>dteday</th>\n",
       "      <th>season</th>\n",
       "      <th>yr</th>\n",
       "      <th>mnth</th>\n",
       "      <th>hr</th>\n",
       "      <th>holiday</th>\n",
       "      <th>weekday</th>\n",
       "      <th>workingday</th>\n",
       "      <th>weathersit</th>\n",
       "      <th>temp</th>\n",
       "      <th>atemp</th>\n",
       "      <th>hum</th>\n",
       "      <th>windspeed</th>\n",
       "      <th>casual</th>\n",
       "      <th>registered</th>\n",
       "      <th>cnt</th>\n",
       "    </tr>\n",
       "  </thead>\n",
       "  <tbody>\n",
       "    <tr>\n",
       "      <th>0</th>\n",
       "      <td>1</td>\n",
       "      <td>2011-01-01</td>\n",
       "      <td>1</td>\n",
       "      <td>0</td>\n",
       "      <td>1</td>\n",
       "      <td>0</td>\n",
       "      <td>0</td>\n",
       "      <td>6</td>\n",
       "      <td>0</td>\n",
       "      <td>1</td>\n",
       "      <td>0.24</td>\n",
       "      <td>0.2879</td>\n",
       "      <td>0.81</td>\n",
       "      <td>0.0</td>\n",
       "      <td>3</td>\n",
       "      <td>13</td>\n",
       "      <td>16</td>\n",
       "    </tr>\n",
       "    <tr>\n",
       "      <th>1</th>\n",
       "      <td>2</td>\n",
       "      <td>2011-01-01</td>\n",
       "      <td>1</td>\n",
       "      <td>0</td>\n",
       "      <td>1</td>\n",
       "      <td>1</td>\n",
       "      <td>0</td>\n",
       "      <td>6</td>\n",
       "      <td>0</td>\n",
       "      <td>1</td>\n",
       "      <td>0.22</td>\n",
       "      <td>0.2727</td>\n",
       "      <td>0.80</td>\n",
       "      <td>0.0</td>\n",
       "      <td>8</td>\n",
       "      <td>32</td>\n",
       "      <td>40</td>\n",
       "    </tr>\n",
       "    <tr>\n",
       "      <th>2</th>\n",
       "      <td>3</td>\n",
       "      <td>2011-01-01</td>\n",
       "      <td>1</td>\n",
       "      <td>0</td>\n",
       "      <td>1</td>\n",
       "      <td>2</td>\n",
       "      <td>0</td>\n",
       "      <td>6</td>\n",
       "      <td>0</td>\n",
       "      <td>1</td>\n",
       "      <td>0.22</td>\n",
       "      <td>0.2727</td>\n",
       "      <td>0.80</td>\n",
       "      <td>0.0</td>\n",
       "      <td>5</td>\n",
       "      <td>27</td>\n",
       "      <td>32</td>\n",
       "    </tr>\n",
       "    <tr>\n",
       "      <th>3</th>\n",
       "      <td>4</td>\n",
       "      <td>2011-01-01</td>\n",
       "      <td>1</td>\n",
       "      <td>0</td>\n",
       "      <td>1</td>\n",
       "      <td>3</td>\n",
       "      <td>0</td>\n",
       "      <td>6</td>\n",
       "      <td>0</td>\n",
       "      <td>1</td>\n",
       "      <td>0.24</td>\n",
       "      <td>0.2879</td>\n",
       "      <td>0.75</td>\n",
       "      <td>0.0</td>\n",
       "      <td>3</td>\n",
       "      <td>10</td>\n",
       "      <td>13</td>\n",
       "    </tr>\n",
       "    <tr>\n",
       "      <th>4</th>\n",
       "      <td>5</td>\n",
       "      <td>2011-01-01</td>\n",
       "      <td>1</td>\n",
       "      <td>0</td>\n",
       "      <td>1</td>\n",
       "      <td>4</td>\n",
       "      <td>0</td>\n",
       "      <td>6</td>\n",
       "      <td>0</td>\n",
       "      <td>1</td>\n",
       "      <td>0.24</td>\n",
       "      <td>0.2879</td>\n",
       "      <td>0.75</td>\n",
       "      <td>0.0</td>\n",
       "      <td>0</td>\n",
       "      <td>1</td>\n",
       "      <td>1</td>\n",
       "    </tr>\n",
       "  </tbody>\n",
       "</table>\n",
       "</div>"
      ],
      "text/plain": [
       "   instant      dteday  season  yr  mnth  hr  holiday  weekday  workingday  \\\n",
       "0        1  2011-01-01       1   0     1   0        0        6           0   \n",
       "1        2  2011-01-01       1   0     1   1        0        6           0   \n",
       "2        3  2011-01-01       1   0     1   2        0        6           0   \n",
       "3        4  2011-01-01       1   0     1   3        0        6           0   \n",
       "4        5  2011-01-01       1   0     1   4        0        6           0   \n",
       "\n",
       "   weathersit  temp   atemp   hum  windspeed  casual  registered  cnt  \n",
       "0           1  0.24  0.2879  0.81        0.0       3          13   16  \n",
       "1           1  0.22  0.2727  0.80        0.0       8          32   40  \n",
       "2           1  0.22  0.2727  0.80        0.0       5          27   32  \n",
       "3           1  0.24  0.2879  0.75        0.0       3          10   13  \n",
       "4           1  0.24  0.2879  0.75        0.0       0           1    1  "
      ]
     },
     "execution_count": 2,
     "metadata": {},
     "output_type": "execute_result"
    }
   ],
   "source": [
    "from IPython import get_ipython;   \n",
    "get_ipython().magic('reset -sf')\n",
    "\n",
    "import os\n",
    "os.chdir(\"C:/Users/Lenovo 4/Desktop/Data Quest Folder/Random Forest/\")\n",
    "os.getcwd()\n",
    "\n",
    "import pandas as pd\n",
    "import numpy as np\n",
    "import matplotlib.mlab as mlab\n",
    "import matplotlib.pyplot as plt\n",
    "import seaborn as sns\n",
    "import math as math\n",
    "\n",
    "df = pd.read_csv(\"hour.csv\")\n",
    "df.head()"
   ]
  },
  {
   "cell_type": "markdown",
   "metadata": {},
   "source": [
    "# Make a histogram of the cnt column of bike_rentals, and take a look at the distribution of total rentals.\n"
   ]
  },
  {
   "cell_type": "code",
   "execution_count": 3,
   "metadata": {},
   "outputs": [
    {
     "data": {
      "image/png": "[encoded data removed]",
      "text/plain": [
       "<Figure size 432x288 with 1 Axes>"
      ]
     },
     "metadata": {
      "needs_background": "light"
     },
     "output_type": "display_data"
    },
    {
     "data": {
      "text/plain": [
       "count    17379.000000\n",
       "mean       189.463088\n",
       "std        181.387599\n",
       "min          1.000000\n",
       "25%         40.000000\n",
       "50%        142.000000\n",
       "75%        281.000000\n",
       "max        977.000000\n",
       "Name: cnt, dtype: float64"
      ]
     },
     "execution_count": 3,
     "metadata": {},
     "output_type": "execute_result"
    }
   ],
   "source": [
    "plt.hist(df[\"cnt\"])\n",
    "plt.show()\n",
    "df.cnt.describe()"
   ]
  },
  {
   "cell_type": "code",
   "execution_count": 8,
   "metadata": {},
   "outputs": [
    {
     "name": "stdout",
     "output_type": "stream",
     "text": [
      "instant       0.278379\n",
      "season        0.178056\n",
      "yr            0.250495\n",
      "mnth          0.120638\n",
      "hr            0.394071\n",
      "holiday      -0.030927\n",
      "weekday       0.026900\n",
      "workingday    0.030284\n",
      "weathersit   -0.142426\n",
      "temp          0.404772\n",
      "atemp         0.400929\n",
      "hum          -0.322911\n",
      "windspeed     0.093234\n",
      "casual        0.694564\n",
      "registered    0.972151\n",
      "cnt           1.000000\n",
      "Name: cnt, dtype: float64\n"
     ]
    }
   ],
   "source": [
    "# Use the corr method on the bike_rentals dataframe to explore how each column is correlated with cnt.\n",
    "corrmat = df.corr()[\"cnt\"]\n",
    "print(corrmat)"
   ]
  },
  {
   "cell_type": "markdown",
   "metadata": {},
   "source": [
    "Variables \"casual\" and \"registrered\" seems to be highly correlated. Consider dropping these variables.\n"
   ]
  },
  {
   "cell_type": "code",
   "execution_count": 9,
   "metadata": {},
   "outputs": [],
   "source": [
    "#use a function to re-categorize observations in \"hr\"  \n",
    "def assign_label(hour):\n",
    "    if hour >=0 and hour < 6:\n",
    "        return 4\n",
    "    elif hour >=6 and hour < 12:\n",
    "        return 1\n",
    "    elif hour >= 12 and hour < 18:\n",
    "        return 2\n",
    "    elif hour >= 18 and hour <=24:\n",
    "        return 3\n",
    "df[\"time_label\"] = df[\"hr\"].apply(assign_label)   "
   ]
  },
  {
   "cell_type": "code",
   "execution_count": 10,
   "metadata": {},
   "outputs": [],
   "source": [
    "# 80 /20 split \n",
    "# Shuffle the rows  \n",
    "# This permutes the index randomly using numpy.random.permutation\n",
    "# Then, it reindexes the dataframe with the result\n",
    "# The net effect is to put the rows into random order\n",
    "np.random.seed(1)\n",
    "df = df.reindex(np.random.permutation(df.index))\n",
    "row = math.floor(df.shape[0]*.8)\n",
    "\n",
    "train = df.iloc[:row]\n",
    "test = df.iloc[row:]"
   ]
  },
  {
   "cell_type": "code",
   "execution_count": 11,
   "metadata": {},
   "outputs": [],
   "source": [
    "#Model 1: Linear Regression\n",
    "#Many columns are correlated with \"cnt\" variable \n",
    "# linear regression works best when predictors are linearly correlated to the target and also independent\n",
    "# linear regression is fairly resistant to overfitting, prone to underfitting, and may not be a good model overall\n",
    "from sklearn.linear_model import LinearRegression\n",
    "\n",
    "predictors = list(train.columns)\n",
    "predictors.remove(\"cnt\")\n",
    "predictors.remove(\"casual\")\n",
    "predictors.remove(\"registered\")\n",
    "predictors.remove(\"dteday\")\n",
    "\n",
    "reg1 = LinearRegression()\n",
    "reg1.fit(train[predictors], train[\"cnt\"])\n",
    "predictions = reg1.predict(test[predictors])"
   ]
  },
  {
   "cell_type": "code",
   "execution_count": 17,
   "metadata": {},
   "outputs": [
    {
     "name": "stdout",
     "output_type": "stream",
     "text": [
      "17052.124871247568\n",
      "130.5837848710458\n"
     ]
    }
   ],
   "source": [
    "## MSE \n",
    "# We will use sklearn's package to calculate error metrics, but they can be coded too, as shown below.\n",
    "# numpy.mean((predictions - test[\"cnt\"]) ** 2)\n",
    "from sklearn.metrics import mean_squared_error\n",
    "\n",
    "mse = mean_squared_error(test[\"cnt\"], predictions)\n",
    "print(mse)\n",
    "rmse = np.sqrt(mse)\n",
    "print(rmse)"
   ]
  },
  {
   "cell_type": "code",
   "execution_count": 20,
   "metadata": {},
   "outputs": [
    {
     "name": "stdout",
     "output_type": "stream",
     "text": [
      "2731.2018678794934\n",
      "52.26090190457388\n"
     ]
    }
   ],
   "source": [
    "# Model 2: Decision Trees \n",
    "# Decision trees tend to overfit, so adjusting parameters are essential \n",
    "# Decision trees suffer from instability: small changes in input data can result in a different output model\n",
    "from sklearn.tree import DecisionTreeRegressor\n",
    "\n",
    "# max_depth - Globally restricts how deep the tree can go\n",
    "# min_samples_split - The minimum number of rows a node should have before it can be split; if this is set to 2, for example, then nodes with 2 rows won't be split, and will become leaves instead\n",
    "# min_samples_leaf - The minimum number of rows a leaf must have\n",
    "# min_weight_fraction_leaf - The fraction of input rows a leaf must have\n",
    "# max_leaf_nodes - The maximum number of total leaves; this will cap the count of leaf nodes as the tree is being built\n",
    "reg2 = DecisionTreeRegressor(min_samples_leaf=5)\n",
    "# fit the tree\n",
    "reg2.fit(train[predictors], train[\"cnt\"])\n",
    "\n",
    "predictions2 = reg2.predict(test[predictors])\n",
    "\n",
    "# MSE  \n",
    "mse = mean_squared_error(test[\"cnt\"], predictions2)\n",
    "print(mse)\n",
    "rmse = np.sqrt(mse)\n",
    "print(rmse)"
   ]
  },
  {
   "cell_type": "markdown",
   "metadata": {},
   "source": [
    " drasticallly reduced mse, decision trees take into account the non-linear predictors that are in our dataset\n"
   ]
  },
  {
   "cell_type": "markdown",
   "metadata": {},
   "source": [
    "# Model 3: Random Forests \n",
    "# Ensembles combine the predictions of multiple models to create a more accurate final prediction. \n",
    "# Bagging and random feature subsets are integrated in the Random Forest Regressor "
   ]
  },
  {
   "cell_type": "code",
   "execution_count": 22,
   "metadata": {},
   "outputs": [],
   "source": [
    "from sklearn.ensemble import RandomForestRegressor \n",
    "# We instantiate a \"RandomForestRegressor\" by passing in paramteres that apply to individual trees:\n",
    "# min_samples_leaf =5 The minimum number of rows a leaf must have\n",
    "# We can also apply parameters specific to the random forest that alter its overall construction:\n",
    "# n_estimators =5, indicates how many trees to build, has diminishing returns as it goes higher, it takes longer as well \n",
    "# boostrap = default is TRUE \n",
    "reg3 = RandomForestRegressor(n_estimators= 100, min_samples_leaf =5, random_state = 1)\n",
    "reg3.fit(train[predictors],train[\"cnt\"])\n",
    "predictions3 = reg3.predict(test[predictors])\n",
    "predictions_train_3 = reg3.predict(train[predictors])\n"
   ]
  },
  {
   "cell_type": "code",
   "execution_count": 23,
   "metadata": {},
   "outputs": [
    {
     "name": "stdout",
     "output_type": "stream",
     "text": [
      "976.6020083258209\n",
      "2063.424559507605\n",
      "45.42493323613811\n"
     ]
    }
   ],
   "source": [
    "# MSE\n",
    "mse_train = mean_squared_error(train[\"cnt\"], predictions_train_3)\n",
    "print(mse_train)\n",
    "mse = mean_squared_error(test[\"cnt\"], predictions3)\n",
    "print(mse)\n",
    "rmse = np.sqrt(mse)\n",
    "print(rmse)"
   ]
  },
  {
   "cell_type": "code",
   "execution_count": 24,
   "metadata": {},
   "outputs": [
    {
     "name": "stdout",
     "output_type": "stream",
     "text": [
      "432.4824021430636\n",
      "1881.571926808211\n",
      "43.377089884041446\n"
     ]
    }
   ],
   "source": [
    "# with the min_samples_leaf parameter tweaked, MSE decreased about 200\n",
    "# However, compare the values 432 vs. 1881, our model is overfitting to the training data \n",
    "\n",
    "reg3 = RandomForestRegressor(n_estimators= 100, min_samples_leaf =2, random_state = 1)\n",
    "reg3.fit(train[predictors],train[\"cnt\"])\n",
    "predictions3 = reg3.predict(test[predictors])\n",
    "predictions_train_3 = reg3.predict(train[predictors])\n",
    "# MSE\n",
    "mse_train = mean_squared_error(train[\"cnt\"], predictions_train_3)\n",
    "print(mse_train)\n",
    "mse = mean_squared_error(test[\"cnt\"], predictions3)\n",
    "print(mse)\n",
    "\n",
    "rmse = np.sqrt(mse)\n",
    "print(rmse)"
   ]
  },
  {
   "cell_type": "code",
   "execution_count": 25,
   "metadata": {},
   "outputs": [
    {
     "name": "stdout",
     "output_type": "stream",
     "text": [
      "1028.4542141344066\n",
      "2229.077479390863\n",
      "47.213107071986514\n"
     ]
    }
   ],
   "source": [
    "# Compare the values 432 vs. 1881, our model is overfitting to the training data \n",
    "# we might want to tweak parameteres such as max_depth to resolve overfitting \n",
    "\n",
    "reg3 = RandomForestRegressor(n_estimators= 100, min_samples_leaf =2, random_state = 1, max_depth =12)\n",
    "reg3.fit(train[predictors],train[\"cnt\"])\n",
    "predictions3 = reg3.predict(test[predictors])\n",
    "predictions_train_3 = reg3.predict(train[predictors])\n",
    "# MSE\n",
    "mse_train = mean_squared_error(train[\"cnt\"], predictions_train_3)\n",
    "print(mse_train)\n",
    "mse = mean_squared_error(test[\"cnt\"], predictions3)\n",
    "print(mse)\n",
    "rmse = np.sqrt(mse)\n",
    "print(rmse)"
   ]
  },
  {
   "cell_type": "code",
   "execution_count": 26,
   "metadata": {},
   "outputs": [
    {
     "name": "stdout",
     "output_type": "stream",
     "text": [
      "Parameters currently in use:\n",
      "\n",
      "{'bootstrap': True,\n",
      " 'ccp_alpha': 0.0,\n",
      " 'criterion': 'mse',\n",
      " 'max_depth': None,\n",
      " 'max_features': 'auto',\n",
      " 'max_leaf_nodes': None,\n",
      " 'max_samples': None,\n",
      " 'min_impurity_decrease': 0.0,\n",
      " 'min_impurity_split': None,\n",
      " 'min_samples_leaf': 1,\n",
      " 'min_samples_split': 2,\n",
      " 'min_weight_fraction_leaf': 0.0,\n",
      " 'n_estimators': 100,\n",
      " 'n_jobs': None,\n",
      " 'oob_score': False,\n",
      " 'random_state': 1,\n",
      " 'verbose': 0,\n",
      " 'warm_start': False}\n"
     ]
    }
   ],
   "source": [
    "# tweaking paramters does not seem to work efficiently\n",
    "# Instead, we turn to: \n",
    "# Using Scikit-Learn’s RandomizedSearchCV method, we can define a grid of hyperparameter ranges, \n",
    "# and randomly sample from the grid, performing K-Fold CV with each combination of values.\n",
    "\n",
    "#To look at the available hyperparameters, we can create a random forest and \n",
    "# examine the default values.\n",
    "from sklearn.ensemble import RandomForestRegressor\n",
    "rf = RandomForestRegressor(random_state = 1)\n",
    "from pprint import pprint\n",
    "# Look at parameters used by our current forest\n",
    "print('Parameters currently in use:\\n')\n",
    "pprint(rf.get_params())\n",
    "\n",
    "#Parameters currently in use:\n",
    " #    {'bootstrap': True,\n",
    " # 'ccp_alpha': 0.0,\n",
    " # 'criterion': 'mse',\n",
    " # 'max_depth': None,\n",
    " # 'max_features': 'auto',\n",
    " # 'max_leaf_nodes': None,\n",
    " # 'max_samples': None,\n",
    " # 'min_impurity_decrease': 0.0,\n",
    " # 'min_impurity_split': None,\n",
    " # 'min_samples_leaf': 1,\n",
    " # 'min_samples_split': 2,\n",
    " # 'min_weight_fraction_leaf': 0.0,\n",
    " # 'n_estimators': 100,\n",
    " # 'n_jobs': None,\n",
    " # 'oob_score': False,\n",
    " # 'random_state': 1,\n",
    " # 'verbose': 0,\n",
    " # 'warm_start': False}"
   ]
  },
  {
   "cell_type": "code",
   "execution_count": 27,
   "metadata": {},
   "outputs": [
    {
     "name": "stdout",
     "output_type": "stream",
     "text": [
      "{'bootstrap': [True, False],\n",
      " 'max_depth': [10, 20, 30, 40, 50, 60, 70, 80, 90, 100, 110, None],\n",
      " 'max_features': ['auto', 'sqrt'],\n",
      " 'min_samples_leaf': [1, 2, 4],\n",
      " 'min_samples_split': [2, 5, 10],\n",
      " 'n_estimators': [200, 344, 488, 633, 777, 922, 1066, 1211, 1355, 1500]}\n"
     ]
    }
   ],
   "source": [
    "#Random Hyperparameter Grid\n",
    "\n",
    "#To use RandomizedSearchCV, we first need to create a parameter grid to sample from during fitting:\n",
    "from sklearn.model_selection import RandomizedSearchCV\n",
    "# Number of trees in random forest\n",
    "n_estimators = [int(x) for x in np.linspace(start = 200 , stop = 1500, num = 10)]\n",
    "# Number of features to consider at every split\n",
    "max_features = ['auto', 'sqrt']\n",
    "# Maximum number of levels in tree\n",
    "max_depth = [int(x) for x in np.linspace(10, 110, num = 11)]\n",
    "max_depth.append(None)\n",
    "# Minimum number of samples required to split a node\n",
    "min_samples_split = [2, 5, 10]\n",
    "# Minimum number of samples required at each leaf node\n",
    "min_samples_leaf = [1, 2, 4]\n",
    "# Method of selecting samples for training each tree\n",
    "bootstrap = [True, False]\n",
    "# Create the random grid\n",
    "random_grid = {'n_estimators': n_estimators,\n",
    "               'max_features': max_features,\n",
    "               'max_depth': max_depth,\n",
    "               'min_samples_split': min_samples_split,\n",
    "               'min_samples_leaf': min_samples_leaf,\n",
    "               'bootstrap': bootstrap}\n",
    "pprint(random_grid)"
   ]
  },
  {
   "cell_type": "code",
   "execution_count": null,
   "metadata": {},
   "outputs": [
    {
     "name": "stdout",
     "output_type": "stream",
     "text": [
      "Fitting 3 folds for each of 100 candidates, totalling 300 fits\n"
     ]
    },
    {
     "name": "stderr",
     "output_type": "stream",
     "text": [
      "[Parallel(n_jobs=-1)]: Using backend LokyBackend with 4 concurrent workers.\n"
     ]
    }
   ],
   "source": [
    "#On each iteration, the algorithm will choose a difference combination of the features. \n",
    "# we instantiate the random search and fit it like any Scikit-Learn model:\n",
    "\n",
    "# Use the random grid to search for best hyperparameters\n",
    "# First create the base model to tune\n",
    "reg4 = RandomForestRegressor()\n",
    "# Random search of parameters, using 3 fold cross validation, \n",
    "# search across 100 different combinations, and use all available cores\n",
    "# n_iter, which controls the number of different combinations to try\n",
    "# cv, which is the number of folds to use for cross validation (we use 100 and 3 respectively)\n",
    "\n",
    "#More iterations will cover a wider search space and more cv folds reduces the chances of overfitting, \n",
    "# but raising each will increase the run time\n",
    "reg4_random = RandomizedSearchCV(estimator = reg4, param_distributions = random_grid, n_iter = 100, cv = 3, verbose=2, random_state=42, n_jobs = -1)\n",
    "\n",
    "# Fit the random search model\n",
    "reg4_random.fit(train[predictors], train[\"cnt\"])\n",
    "\n",
    "# We can view the best parameters from fitting the random search:\n",
    "reg4_random.best_params_"
   ]
  },
  {
   "cell_type": "code",
   "execution_count": null,
   "metadata": {},
   "outputs": [],
   "source": [
    "# From these results, we narrow the range of values for each hyperparameter.\n",
    "# To determine if random search yielded a better model, we compare the base model with the best random search model.\n",
    "def evaluate(model, test_features, test_labels, train_labels):\n",
    "    predictions = model.predict(test_features)\n",
    "    mse = mean_squared_error(test_labels, predictions)\n",
    "    mse_train = mean_squared_error(train_labels, predictions)\n",
    "    print('Model Performance')\n",
    "    print('MSE: {:0.4f} .'.format(np.mean(mse)))\n",
    "    print('Model Performance on training data')\n",
    "    print('MSE: {:0.4f} .'.format(np.mean(mse_train)))\n",
    "    return mse\n",
    "\n",
    "#base model\n",
    "base_model = RandomForestRegressor(n_estimators = 100, random_state = 1, max_depth =12)\n",
    "base_model.fit(train[predictors],train[\"cnt\"])\n",
    "base_mse= evaluate(base_model, test[predictors], test[\"cnt\"], train[\"cnt\"])\n",
    "\n",
    "#best model\n",
    "best_random = reg4_random.best_estimator_\n",
    "random_mse = evaluate(best_random, test[predictors], test[\"cnt\"], train[\"cnt\"])\n",
    "\n",
    "print('Improvement of {:0.2f}%.'.format( 100 * (base_mse - random_mse) / base_mse))"
   ]
  },
  {
   "cell_type": "markdown",
   "metadata": {},
   "source": [
    "# We can further improve our results by using grid search to focus on \n",
    "# the most promising hyperparameters ranges found in the random search.\n",
    "# Use GridSearchCV to evaluate all combinations we define instead of randomly sampling from a distribution"
   ]
  },
  {
   "cell_type": "code",
   "execution_count": null,
   "metadata": {},
   "outputs": [],
   "source": [
    "from sklearn.model_selection import GridSearchCV\n",
    "\n",
    "# Create the parameter grid based on the results of random search \n",
    "reg4_random.best_params_\n",
    "\n",
    "param_grid = {\n",
    "    'bootstrap': [True],\n",
    "    'max_depth': [95, 100, 105],\n",
    "    'max_features': ['auto'],\n",
    "    'min_samples_leaf': [1,2,3],\n",
    "    'min_samples_split': [1,2,3],\n",
    "    'n_estimators': [1200,1300,1366,1400],\n",
    "    }\n",
    "\n",
    "# create a based model\n",
    "rf = RandomForestRegressor()\n",
    "\n",
    "# Instantiate the grid search model \n",
    "grid_search = GridSearchCV(estimator =  rf, param_grid = param_grid, cv=3, n_jobs = -1, verbose =2) \n",
    "\n",
    "# Fit the grid search to the data\n",
    "grid_search.fit(train[predictors], train[\"cnt\"])\n",
    "grid_search.best_params_\n",
    "\n",
    "best_grid = grid_search.best_estimator_\n",
    "grid_mse = evaluate(best_grid, test[predictors], test[\"cnt\"], train[\"cnt\"])\n",
    "\n",
    "print('Improvement of {:0.2f}%.'.format( 100 * (random_mse - grid_mse) / random_mse))"
   ]
  },
  {
   "cell_type": "code",
   "execution_count": null,
   "metadata": {},
   "outputs": [],
   "source": []
  }
 ],
 "metadata": {
  "kernelspec": {
   "display_name": "Python 3",
   "language": "python",
   "name": "python3"
  },
  "language_info": {
   "codemirror_mode": {
    "name": "ipython",
    "version": 3
   },
   "file_extension": ".py",
   "mimetype": "text/x-python",
   "name": "python",
   "nbconvert_exporter": "python",
   "pygments_lexer": "ipython3",
   "version": "3.7.6"
  }
 },
 "nbformat": 4,
 "nbformat_minor": 4
}
